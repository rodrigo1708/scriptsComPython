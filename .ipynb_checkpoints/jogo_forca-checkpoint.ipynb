{
 "cells": [
  {
   "cell_type": "markdown",
   "id": "a674fda5-9fa7-4df4-b1b5-d5e3c0328323",
   "metadata": {},
   "source": [
    "### JOGO DA FORCA"
   ]
  },
  {
   "cell_type": "code",
   "execution_count": 1,
   "id": "f4253a8a-de4e-43ba-9684-d5ad8f45784e",
   "metadata": {
    "tags": []
   },
   "outputs": [],
   "source": [
    "import random\n",
    "from os import system, name\n",
    "from time import sleep"
   ]
  },
  {
   "cell_type": "code",
   "execution_count": 2,
   "id": "eaa7115a-7007-4318-a804-569454859c95",
   "metadata": {
    "tags": []
   },
   "outputs": [],
   "source": [
    "# Função para limpar tela\n",
    "def limpa_tela():\n",
    "    # windows\n",
    "    if name == 'nt':\n",
    "        # nt é o nome interno do windows\n",
    "        _ = system('cls')\n",
    "        # underline na função system impede que a mesma retorne algum valor\n",
    "    # mac ou linux\n",
    "    else:\n",
    "        _ = system('clear')\n",
    "        # underline na função system impede que a mesma retorne algum valor\n",
    "# Jogo\n",
    "def game():\n",
    "    #limpa_tela()\n",
    "    print(\"\\nBem-vindo(a) ao jogo da forca!\")\n",
    "    print(\"Adivinhe a palavra abaixo:\")\n",
    "    \n",
    "    # Lista de palavras para o jogo da forca\n",
    "    palavras = ['banana', 'abacate', 'uva', 'morango', 'laranja', 'paralelepipedo', 'cachorro', 'gato', 'panela']\n",
    "    \n",
    "    # Escolha randômica de palavras\n",
    "    palavra = random.choice(palavras)\n",
    "    \n",
    "    # list comprehension para armazenar as letras descobertas\n",
    "    letras_descobertas = ['_' for letra in palavra]\n",
    "    print(f\"Palavra: {letras_descobertas}\")\n",
    "    \n",
    "    # Número de tentativas\n",
    "    chances = len(palavra) + 1\n",
    "    n = 1\n",
    "    \n",
    "    # Lista para as letras erradas\n",
    "    letras_erradas = []\n",
    "    \n",
    "    # Loop das chances enquanto forem maior que zero\n",
    "    while chances > 0:\n",
    "        # Pede ao usuário para digitar uma letra\n",
    "        print(f\"\\nVocê tem {chances} chances!!\\n\")\n",
    "        sleep(1)\n",
    "        print(f\"Tentativa número: {n}\")\n",
    "        tentativa = input(\"\\nDigite uma letra:\").lower()[0]\n",
    "        sleep(2)\n",
    "        # Se a letra digitada estiver contida na palavra:\n",
    "        if tentativa in palavra:\n",
    "            # Percorre todas as letras da palavras, criando o índice para cada uma\n",
    "            for i, letra in enumerate (palavra):\n",
    "                # Condicional se a tentativa do usuário é igual à letra no loop FOR\n",
    "                if tentativa == letra:\n",
    "                    # Se a letra da tentativa for igual, o programa armazena a letra no índice correspondente da palavra\n",
    "                    letras_descobertas[i] = letra\n",
    "            # Redução das tentativas\n",
    "            chances -= 1\n",
    "            n +=1\n",
    "        # Se a letra digitada não estiver contida na palavra sorteada:\n",
    "        else:\n",
    "            # Redução da chance\n",
    "            chances -= 1\n",
    "            n += 1\n",
    "            # Append da letra errada na lista de erradas\n",
    "            letras_erradas.append(tentativa)\n",
    "            print(f\"Palavra errada :(\\nLetras erradas: {letras_erradas}\\n\")\n",
    "            \n",
    "        # Print das letras descobertas dentro da palavra\n",
    "        print(f\"Palavra: {letras_descobertas}\\n\\nLetras erradas: {letras_erradas}\")\n",
    "        \n",
    "        # Se as letras forem todas descobertas:\n",
    "        if '_' not in letras_descobertas:\n",
    "            print(f\"\\nVocê venceu!!! A palavra era: {palavra}\")\n",
    "            break\n",
    "    if \"_\" in letras_descobertas:\n",
    "        print(f\"\\nQue pena, suas chances esgotaram!, a palavra era: {palavra}\")"
   ]
  },
  {
   "cell_type": "code",
   "execution_count": null,
   "id": "81cbbe7d-8f79-471b-b005-537ce2711173",
   "metadata": {},
   "outputs": [],
   "source": [
    "if __name__ == \"__main__\":\n",
    "    game()"
   ]
  }
 ],
 "metadata": {
  "kernelspec": {
   "display_name": "Python 3 (ipykernel)",
   "language": "python",
   "name": "python3"
  },
  "language_info": {
   "codemirror_mode": {
    "name": "ipython",
    "version": 3
   },
   "file_extension": ".py",
   "mimetype": "text/x-python",
   "name": "python",
   "nbconvert_exporter": "python",
   "pygments_lexer": "ipython3",
   "version": "3.9.13"
  }
 },
 "nbformat": 4,
 "nbformat_minor": 5
}
